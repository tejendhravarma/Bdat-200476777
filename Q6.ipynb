{
 "cells": [
  {
   "cell_type": "code",
   "execution_count": 2,
   "id": "77fbe055",
   "metadata": {},
   "outputs": [
    {
     "name": "stdout",
     "output_type": "stream",
     "text": [
      "the most used os is:Windows\n"
     ]
    }
   ],
   "source": [
    "import csv\n",
    "\n",
    "with open('survey_results_public.csv') as file1:\n",
    "    content = file1.readlines()\n",
    "header = content[:1][0].split(',')\n",
    "OSind=header.index('OpSys')\n",
    "OSType=[row.split(',')[OSind]  for row in content[1:]]\n",
    "mostUsed=-1\n",
    "os=''\n",
    "dic={}\n",
    "for i in OSType:\n",
    "    if i in dic:\n",
    "        dic[i]=dic[i]+1\n",
    "    else:\n",
    "        dic[i]=1\n",
    "    if mostUsed<dic[i]:\n",
    "        mostUsed=dic[i]\n",
    "        os=i\n",
    "print(\"the most used os is:\"+os)"
   ]
  },
  {
   "cell_type": "code",
   "execution_count": null,
   "id": "8909a8a4",
   "metadata": {},
   "outputs": [],
   "source": []
  }
 ],
 "metadata": {
  "kernelspec": {
   "display_name": "Python 3",
   "language": "python",
   "name": "python3"
  },
  "language_info": {
   "codemirror_mode": {
    "name": "ipython",
    "version": 3
   },
   "file_extension": ".py",
   "mimetype": "text/x-python",
   "name": "python",
   "nbconvert_exporter": "python",
   "pygments_lexer": "ipython3",
   "version": "3.8.8"
  }
 },
 "nbformat": 4,
 "nbformat_minor": 5
}
