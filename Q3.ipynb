{
 "cells": [
  {
   "cell_type": "code",
   "execution_count": 3,
   "id": "e5104ab9",
   "metadata": {},
   "outputs": [
    {
     "name": "stdout",
     "output_type": "stream",
     "text": [
      " people who are satisfied with their job:\n"
     ]
    },
    {
     "data": {
      "text/plain": [
       "28541"
      ]
     },
     "execution_count": 3,
     "metadata": {},
     "output_type": "execute_result"
    }
   ],
   "source": [
    "import csv\n",
    "with open('survey_results_public.csv') as file1:\n",
    "    content = file1.readlines()\n",
    "header = content[:1][0].split(',')\n",
    "indSatis=header.index('JobSat')\n",
    "jobSatis=[row.split(',')[indSatis]  for row in content[1:]]\n",
    "c=0\n",
    "for i in jobSatis:\n",
    "    if(i=='Slightly satisfied'or i=='Very satisfied'):\n",
    "        c+=1\n",
    "\n",
    "print(\" people who are satisfied with their job:\")\n",
    "c\n"
   ]
  },
  {
   "cell_type": "code",
   "execution_count": null,
   "id": "b32bc06b",
   "metadata": {},
   "outputs": [],
   "source": []
  }
 ],
 "metadata": {
  "kernelspec": {
   "display_name": "Python 3",
   "language": "python",
   "name": "python3"
  },
  "language_info": {
   "codemirror_mode": {
    "name": "ipython",
    "version": 3
   },
   "file_extension": ".py",
   "mimetype": "text/x-python",
   "name": "python",
   "nbconvert_exporter": "python",
   "pygments_lexer": "ipython3",
   "version": "3.8.8"
  }
 },
 "nbformat": 4,
 "nbformat_minor": 5
}
