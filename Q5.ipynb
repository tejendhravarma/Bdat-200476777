{
 "cells": [
  {
   "cell_type": "code",
   "execution_count": 7,
   "id": "68dcf618",
   "metadata": {},
   "outputs": [
    {
     "name": "stdout",
     "output_type": "stream",
     "text": [
      "the Number of developers: 45125\n"
     ]
    }
   ],
   "source": [
    "import csv\n",
    "with open('survey_results_public.csv') as file1:\n",
    "    content = file1.readlines()\n",
    "header = content[:1][0].split(',')\n",
    "inddev=header.index('DevType')\n",
    "#jobType=content[1:]\n",
    "jobType=[row.split(',')[inddev]  for row in content[1:]]\n",
    "c=0\n",
    "for i in jobType:\n",
    "    if(i.find('Developer')!=-1):\n",
    "        c+=1\n",
    "print(\"the Number of developers:\",c)"
   ]
  },
  {
   "cell_type": "code",
   "execution_count": null,
   "id": "df1ed9ae",
   "metadata": {},
   "outputs": [],
   "source": []
  },
  {
   "cell_type": "code",
   "execution_count": null,
   "id": "65e460a6",
   "metadata": {},
   "outputs": [],
   "source": []
  }
 ],
 "metadata": {
  "kernelspec": {
   "display_name": "Python 3",
   "language": "python",
   "name": "python3"
  },
  "language_info": {
   "codemirror_mode": {
    "name": "ipython",
    "version": 3
   },
   "file_extension": ".py",
   "mimetype": "text/x-python",
   "name": "python",
   "nbconvert_exporter": "python",
   "pygments_lexer": "ipython3",
   "version": "3.8.8"
  }
 },
 "nbformat": 4,
 "nbformat_minor": 5
}
