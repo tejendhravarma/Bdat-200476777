{
 "cells": [
  {
   "cell_type": "code",
   "execution_count": 11,
   "id": "47dc9679",
   "metadata": {},
   "outputs": [
    {
     "name": "stdout",
     "output_type": "stream",
     "text": [
      "the minimum age who used stack overflow is :\n"
     ]
    },
    {
     "data": {
      "text/plain": [
       "1.0"
      ]
     },
     "execution_count": 11,
     "metadata": {},
     "output_type": "execute_result"
    }
   ],
   "source": [
    "import csv\n",
    "\n",
    "with open('survey_results_public.csv') as file1:\n",
    "    content = file1.readlines()\n",
    "header = content[:1][0].split(',')\n",
    "indSite=header.index('NEWSOSites')\n",
    "usingSite=[row.split(',')[indSite]  for row in content[1:]]\n",
    "indAge=header.index('Age')\n",
    "ageList=[row.split(',')[indAge]  for row in content[1:]]\n",
    "#ageList\n",
    "minValue=500\n",
    "transList=[]\n",
    "for x in ageList:\n",
    "    if x !='NA':    \n",
    "        transList.append(float(x))\n",
    "    else:\n",
    "        transList.append(500)\n",
    "\n",
    "for i in range(len(transList)):\n",
    "    if usingSite[i].find('Stack Overflow')!=-1:\n",
    "        minValue=min(minValue,transList[i])\n",
    "               \n",
    "print(\"the minimum age who used stack overflow is :\")\n",
    "minValue"
   ]
  },
  {
   "cell_type": "code",
   "execution_count": null,
   "id": "08ff8691",
   "metadata": {},
   "outputs": [],
   "source": []
  },
  {
   "cell_type": "code",
   "execution_count": null,
   "id": "41dcf58d",
   "metadata": {},
   "outputs": [],
   "source": []
  }
 ],
 "metadata": {
  "kernelspec": {
   "display_name": "Python 3",
   "language": "python",
   "name": "python3"
  },
  "language_info": {
   "codemirror_mode": {
    "name": "ipython",
    "version": 3
   },
   "file_extension": ".py",
   "mimetype": "text/x-python",
   "name": "python",
   "nbconvert_exporter": "python",
   "pygments_lexer": "ipython3",
   "version": "3.8.8"
  }
 },
 "nbformat": 4,
 "nbformat_minor": 5
}
