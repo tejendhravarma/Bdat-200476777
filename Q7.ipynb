{
 "cells": [
  {
   "cell_type": "code",
   "execution_count": 2,
   "id": "f5451522",
   "metadata": {},
   "outputs": [
    {
     "name": "stdout",
     "output_type": "stream",
     "text": [
      "the maximum TOTAL years of code done be any person:  86\n"
     ]
    }
   ],
   "source": [
    "import csv\n",
    "\n",
    "with open('survey_results_public.csv') as file1:\n",
    "    content = file1.readlines()\n",
    "header = content[:1][0].split(',')\n",
    "codeInd=header.index('Age1stCode')\n",
    "codeList=[row.split(',')[codeInd]  for row in content[1:]]\n",
    "indAge=header.index('Age')\n",
    "ageList=[row.split(',')[indAge]  for row in content[1:]]\n",
    "#ageList\n",
    "maxValue=-1\n",
    "transAge=[]\n",
    "for x in ageList:\n",
    "    if x =='NA':    \n",
    "        transAge.append(0)\n",
    "    else:\n",
    "        transAge.append(float(x))\n",
    "        \n",
    "transCode=[]\n",
    "for x in codeList:\n",
    "    if x =='NA':    \n",
    "        transCode.append(0)\n",
    "    elif x=='Younger than 5 years':\n",
    "        transCode.append(4)\n",
    "    elif x=='Older than 85':\n",
    "        transCode.append(86)    \n",
    "    else:\n",
    "        transCode.append(float(x))\n",
    "\n",
    "for i in range(len(codeList)):\n",
    "    if transCode[i]>=transAge[i]:\n",
    "        maxValue=max(maxValue,transCode[i]-transAge[i])\n",
    "               \n",
    "print(\"the maximum TOTAL years of code done be any person: \",maxValue)"
   ]
  },
  {
   "cell_type": "code",
   "execution_count": null,
   "id": "41060721",
   "metadata": {},
   "outputs": [],
   "source": []
  }
 ],
 "metadata": {
  "kernelspec": {
   "display_name": "Python 3",
   "language": "python",
   "name": "python3"
  },
  "language_info": {
   "codemirror_mode": {
    "name": "ipython",
    "version": 3
   },
   "file_extension": ".py",
   "mimetype": "text/x-python",
   "name": "python",
   "nbconvert_exporter": "python",
   "pygments_lexer": "ipython3",
   "version": "3.8.8"
  }
 },
 "nbformat": 4,
 "nbformat_minor": 5
}
